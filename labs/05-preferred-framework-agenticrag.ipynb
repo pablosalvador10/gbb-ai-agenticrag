{
 "cells": [
  {
   "cell_type": "markdown",
   "id": "be2e4b1c",
   "metadata": {},
   "source": [
    "**Coming Soon!**\n",
    "\n",
    "Stay tuned—In the meantime, here are some great resources to get started:\n",
    "\n",
    "- [GBB AI Agent Architecture Lab](https://github.com/pablosalvador10/gbbai-agent-architecture-lab)\n",
    "\n",
    "Check them out for inspiration and practical examples!"
   ]
  }
 ],
 "metadata": {
  "language_info": {
   "name": "python"
  }
 },
 "nbformat": 4,
 "nbformat_minor": 5
}
