{
 "cells": [
  {
   "cell_type": "code",
   "execution_count": 1,
   "metadata": {},
   "outputs": [
    {
     "name": "stdout",
     "output_type": "stream",
     "text": [
      "Directory changed to c:\\Users\\pablosal\\Desktop\\azure-ai-agent-services-demo\n"
     ]
    }
   ],
   "source": [
    "import os\n",
    "\n",
    "# Define the target directory\n",
    "current_directory = os.getcwd()  # change your directory here\n",
    "\n",
    "# Check if the directory exists\n",
    "if os.path.exists(current_directory):\n",
    "    # Change the current working directory\n",
    "    two_folders_up = os.path.dirname(os.path.dirname(current_directory))\n",
    "    os.chdir(two_folders_up)\n",
    "    print(f\"Directory changed to {os.getcwd()}\")\n",
    "else:\n",
    "    print(f\"Directory {current_directory} does not exist.\")"
   ]
  },
  {
   "cell_type": "markdown",
   "metadata": {},
   "source": [
    "### **Instantiate the PolicyIndexingPipeline Class**\n",
    "\n",
    "Settings for running the pipeline are in `src\\pipeline\\policyIndexer\\settings.yaml`.\n",
    "\n",
    "The PolicyIndexingPipeline automates the process of indexing policy documents into Azure AI Search."
   ]
  },
  {
   "cell_type": "code",
   "execution_count": 2,
   "metadata": {},
   "outputs": [],
   "source": [
    "from src.azureAIsearch.run import PolicyIndexingPipeline\n",
    "\n",
    "indexer = PolicyIndexingPipeline()"
   ]
  },
  {
   "cell_type": "markdown",
   "metadata": {},
   "source": [
    "### **Upload Document to Landing Zone Blob Storage**"
   ]
  },
  {
   "cell_type": "code",
   "execution_count": 3,
   "metadata": {},
   "outputs": [
    {
     "name": "stderr",
     "output_type": "stream",
     "text": [
      "2025-03-19 18:57:32,513 - micro - MainProcess - INFO     Starting document upload from local path: data/product_data (run.py:upload_documents:154)\n",
      "2025-03-19 18:57:32,515 - micro - MainProcess - INFO     Connected to Blob container: agentic-samples (run.py:upload_documents:158)\n",
      "2025-03-19 18:57:32,518 - micro - MainProcess - INFO     Scanning directory: data/product_data (run.py:upload_documents:162)\n",
      "2025-03-19 18:57:32,519 - micro - MainProcess - INFO     Preparing to upload file: data/product_data\\Product A Techncial Architecture.pdf to blob path: agentic_ocr\\Product A Techncial Architecture.pdf (run.py:upload_documents:170)\n",
      "2025-03-19 18:57:32,794 - micro - MainProcess - INFO     Successfully uploaded data/product_data\\Product A Techncial Architecture.pdf to agentic_ocr\\Product A Techncial Architecture.pdf (run.py:upload_documents:176)\n"
     ]
    }
   ],
   "source": [
    "indexer.upload_documents(local_path=\"data/product_data\")"
   ]
  },
  {
   "cell_type": "markdown",
   "metadata": {},
   "source": [
    "### **Create Data Source (Connect Blob)**"
   ]
  },
  {
   "cell_type": "code",
   "execution_count": 4,
   "metadata": {},
   "outputs": [
    {
     "name": "stderr",
     "output_type": "stream",
     "text": [
      "2025-03-19 18:57:33,128 - micro - MainProcess - INFO     Data source 'ai-agentic-blob' created or updated (run.py:create_data_source:205)\n"
     ]
    }
   ],
   "source": [
    "indexer.create_data_source()"
   ]
  },
  {
   "cell_type": "markdown",
   "metadata": {},
   "source": [
    "### **Create Index**"
   ]
  },
  {
   "cell_type": "code",
   "execution_count": 5,
   "metadata": {},
   "outputs": [
    {
     "name": "stderr",
     "output_type": "stream",
     "text": [
      "2025-03-19 18:57:33,550 - micro - MainProcess - INFO     Index 'ai-agentic-index' created or updated successfully. (run.py:create_index:331)\n"
     ]
    }
   ],
   "source": [
    "indexer.create_index()"
   ]
  },
  {
   "cell_type": "markdown",
   "metadata": {},
   "source": [
    "### **Create Skillset**"
   ]
  },
  {
   "cell_type": "code",
   "execution_count": 6,
   "metadata": {},
   "outputs": [
    {
     "name": "stderr",
     "output_type": "stream",
     "text": [
      "2025-03-19 18:57:33,702 - micro - MainProcess - INFO     Skillset 'ai-agentic-skillset' created or updated (run.py:create_skillset:549)\n"
     ]
    }
   ],
   "source": [
    "indexer.create_skillset()"
   ]
  },
  {
   "cell_type": "markdown",
   "metadata": {},
   "source": [
    "### **Create Indexer**"
   ]
  },
  {
   "cell_type": "code",
   "execution_count": 7,
   "metadata": {},
   "outputs": [
    {
     "name": "stderr",
     "output_type": "stream",
     "text": [
      "2025-03-19 18:57:34,033 - micro - MainProcess - INFO     Indexer 'ai-agentic-indexer' created or updated (run.py:create_indexer:583)\n"
     ]
    }
   ],
   "source": [
    "indexer.create_indexer()"
   ]
  },
  {
   "cell_type": "markdown",
   "metadata": {},
   "source": [
    "### **Create Run Indexer**"
   ]
  },
  {
   "cell_type": "code",
   "execution_count": 8,
   "metadata": {},
   "outputs": [],
   "source": [
    "from src.azureAIsearch.run import IndexerRunner"
   ]
  },
  {
   "cell_type": "code",
   "execution_count": 9,
   "metadata": {},
   "outputs": [
    {
     "name": "stderr",
     "output_type": "stream",
     "text": [
      "2025-03-19 18:57:34,316 - micro - MainProcess - INFO     Indexer 'ai-agentic-indexer' has been started. (run.py:run_indexer:655)\n",
      "2025-03-19 18:57:34,374 - micro - MainProcess - INFO     Indexer Status: running (run.py:monitor_indexer_status:700)\n",
      "2025-03-19 18:57:34,375 - micro - MainProcess - INFO     Last Run Time: 2025-03-19 23:54:43.885000+00:00 (run.py:monitor_indexer_status:701)\n",
      "2025-03-19 18:57:34,377 - micro - MainProcess - INFO     Execution Status: success (run.py:monitor_indexer_status:702)\n",
      "2025-03-19 18:57:34,378 - micro - MainProcess - INFO     Indexer 'ai-agentic-indexer' completed successfully. (run.py:monitor_indexer_status:712)\n"
     ]
    }
   ],
   "source": [
    "indexer = IndexerRunner(indexer_name=\"ai-agentic-indexer\")\n",
    "indexer.monitor_indexer_status()"
   ]
  },
  {
   "cell_type": "markdown",
   "metadata": {},
   "source": [
    "### **Test Search** "
   ]
  },
  {
   "cell_type": "code",
   "execution_count": 10,
   "metadata": {},
   "outputs": [],
   "source": [
    "from azure.search.documents import SearchClient\n",
    "from azure.search.documents.models import VectorizableTextQuery\n",
    "from azure.core.credentials import AzureKeyCredential\n",
    "from azure.identity import DefaultAzureCredential\n",
    "\n",
    "credential = (\n",
    "    AzureKeyCredential(os.getenv(\"AZURE_AI_SEARCH_ADMIN_KEY\"))\n",
    "    if os.getenv(\"AZURE_AI_SEARCH_ADMIN_KEY\")\n",
    "    else DefaultAzureCredential()\n",
    ")\n",
    "index_name = os.getenv(\"AZURE_AI_SEARCH_INDEX_NAME\", \"ai-policies-index\")\n",
    "\n",
    "\n",
    "search_client = SearchClient(\n",
    "    endpoint=os.environ[\"AZURE_AI_SEARCH_SERVICE_ENDPOINT\"],\n",
    "    index_name=index_name,\n",
    "    credential=AzureKeyCredential(os.environ[\"AZURE_AI_SEARCH_ADMIN_KEY\"]),\n",
    ")"
   ]
  },
  {
   "cell_type": "code",
   "execution_count": 11,
   "metadata": {},
   "outputs": [],
   "source": [
    "SEARCH_QUERY = \"What is the main feature of product A?\""
   ]
  },
  {
   "cell_type": "code",
   "execution_count": 12,
   "metadata": {},
   "outputs": [
    {
     "name": "stdout",
     "output_type": "stream",
     "text": [
      "Search results:\n"
     ]
    }
   ],
   "source": [
    "vector_query = VectorizableTextQuery(\n",
    "    text=SEARCH_QUERY, k_nearest_neighbors=5, fields=\"vector\", weight=0.5\n",
    ")\n",
    "\n",
    "search_results = search_client.search(\n",
    "    vector_query,\n",
    "    search_mode=\"all\",\n",
    "    top=5,\n",
    "    include_total_count=True,\n",
    "    filter=None,\n",
    ")\n",
    "\n",
    "print(\"Search results:\")\n",
    "for result in search_results:\n",
    "    print(f\"Document ID: {result['id']}\")\n",
    "    print(f\"Score: {result['@search.score']}\")\n",
    "    print(f\"Content: {result['content']}\")\n",
    "    print(f\"Vector: {result['vector']}\")\n",
    "    print()"
   ]
  }
 ],
 "metadata": {
  "kernelspec": {
   "display_name": "azure-ai-agent-service-demo",
   "language": "python",
   "name": "python3"
  },
  "language_info": {
   "codemirror_mode": {
    "name": "ipython",
    "version": 3
   },
   "file_extension": ".py",
   "mimetype": "text/x-python",
   "name": "python",
   "nbconvert_exporter": "python",
   "pygments_lexer": "ipython3",
   "version": "3.11.11"
  }
 },
 "nbformat": 4,
 "nbformat_minor": 2
}
