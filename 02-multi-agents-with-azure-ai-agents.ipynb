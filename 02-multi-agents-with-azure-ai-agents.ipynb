{
 "cells": [
  {
   "cell_type": "code",
   "execution_count": 4,
   "metadata": {},
   "outputs": [
    {
     "name": "stdout",
     "output_type": "stream",
     "text": [
      "Directory changed to c:\\Users\\pablosal\\Desktop\\azure-ai-agent-services-demo\n"
     ]
    }
   ],
   "source": [
    "import os\n",
    "\n",
    "# Define the target directory\n",
    "target_directory = os.getcwd()  # change your directory here\n",
    "\n",
    "# Check if the directory exists\n",
    "if os.path.exists(target_directory):\n",
    "    # Change the current working directory\n",
    "    os.chdir(target_directory)\n",
    "    print(f\"Directory changed to {os.getcwd()}\")\n",
    "else:\n",
    "    print(f\"Directory {target_directory} does not exist.\")"
   ]
  },
  {
   "cell_type": "code",
   "execution_count": 2,
   "metadata": {},
   "outputs": [
    {
     "name": "stdout",
     "output_type": "stream",
     "text": [
      "0.11.0\n"
     ]
    },
    {
     "name": "stderr",
     "output_type": "stream",
     "text": [
      "C:\\Users\\pablosal\\AppData\\Local\\Temp\\ipykernel_38576\\2673231978.py:1: DeprecationWarning: pkg_resources is deprecated as an API. See https://setuptools.pypa.io/en/latest/pkg_resources.html\n",
      "  import pkg_resources\n"
     ]
    }
   ],
   "source": [
    "import pkg_resources\n",
    "print(pkg_resources.get_distribution(\"synapseml\").version)"
   ]
  },
  {
   "cell_type": "code",
   "execution_count": null,
   "metadata": {},
   "outputs": [
    {
     "name": "stdout",
     "output_type": "stream",
     "text": [
      "Requirement already satisfied: openai==1.14.1 in c:\\users\\pablosal\\appdata\\local\\anaconda3\\envs\\azure-ai-agent-service-demo\\lib\\site-packages (1.14.1)\n",
      "Requirement already satisfied: anyio<5,>=3.5.0 in c:\\users\\pablosal\\appdata\\local\\anaconda3\\envs\\azure-ai-agent-service-demo\\lib\\site-packages (from openai==1.14.1) (4.8.0)\n",
      "Requirement already satisfied: distro<2,>=1.7.0 in c:\\users\\pablosal\\appdata\\local\\anaconda3\\envs\\azure-ai-agent-service-demo\\lib\\site-packages (from openai==1.14.1) (1.9.0)\n",
      "Requirement already satisfied: httpx<1,>=0.23.0 in c:\\users\\pablosal\\appdata\\local\\anaconda3\\envs\\azure-ai-agent-service-demo\\lib\\site-packages (from openai==1.14.1) (0.27.2)\n",
      "Requirement already satisfied: pydantic<3,>=1.9.0 in c:\\users\\pablosal\\appdata\\local\\anaconda3\\envs\\azure-ai-agent-service-demo\\lib\\site-packages (from openai==1.14.1) (2.9.2)\n",
      "Requirement already satisfied: sniffio in c:\\users\\pablosal\\appdata\\local\\anaconda3\\envs\\azure-ai-agent-service-demo\\lib\\site-packages (from openai==1.14.1) (1.3.1)\n",
      "Requirement already satisfied: tqdm>4 in c:\\users\\pablosal\\appdata\\local\\anaconda3\\envs\\azure-ai-agent-service-demo\\lib\\site-packages (from openai==1.14.1) (4.67.1)\n",
      "Requirement already satisfied: typing-extensions<5,>=4.7 in c:\\users\\pablosal\\appdata\\local\\anaconda3\\envs\\azure-ai-agent-service-demo\\lib\\site-packages (from openai==1.14.1) (4.12.2)\n",
      "Requirement already satisfied: idna>=2.8 in c:\\users\\pablosal\\appdata\\local\\anaconda3\\envs\\azure-ai-agent-service-demo\\lib\\site-packages (from anyio<5,>=3.5.0->openai==1.14.1) (3.10)\n",
      "Requirement already satisfied: certifi in c:\\users\\pablosal\\appdata\\local\\anaconda3\\envs\\azure-ai-agent-service-demo\\lib\\site-packages (from httpx<1,>=0.23.0->openai==1.14.1) (2025.1.31)\n",
      "Requirement already satisfied: httpcore==1.* in c:\\users\\pablosal\\appdata\\local\\anaconda3\\envs\\azure-ai-agent-service-demo\\lib\\site-packages (from httpx<1,>=0.23.0->openai==1.14.1) (1.0.7)\n",
      "Requirement already satisfied: h11<0.15,>=0.13 in c:\\users\\pablosal\\appdata\\local\\anaconda3\\envs\\azure-ai-agent-service-demo\\lib\\site-packages (from httpcore==1.*->httpx<1,>=0.23.0->openai==1.14.1) (0.14.0)\n",
      "Requirement already satisfied: annotated-types>=0.6.0 in c:\\users\\pablosal\\appdata\\local\\anaconda3\\envs\\azure-ai-agent-service-demo\\lib\\site-packages (from pydantic<3,>=1.9.0->openai==1.14.1) (0.7.0)\n",
      "Requirement already satisfied: pydantic-core==2.23.4 in c:\\users\\pablosal\\appdata\\local\\anaconda3\\envs\\azure-ai-agent-service-demo\\lib\\site-packages (from pydantic<3,>=1.9.0->openai==1.14.1) (2.23.4)\n",
      "Requirement already satisfied: colorama in c:\\users\\pablosal\\appdata\\local\\anaconda3\\envs\\azure-ai-agent-service-demo\\lib\\site-packages (from tqdm>4->openai==1.14.1) (0.4.6)\n",
      "Note: you may need to restart the kernel to use updated packages.\n",
      "Requirement already satisfied: httpx==0.27.2 in c:\\users\\pablosal\\appdata\\local\\anaconda3\\envs\\azure-ai-agent-service-demo\\lib\\site-packages (0.27.2)\n",
      "Requirement already satisfied: anyio in c:\\users\\pablosal\\appdata\\local\\anaconda3\\envs\\azure-ai-agent-service-demo\\lib\\site-packages (from httpx==0.27.2) (4.8.0)\n",
      "Requirement already satisfied: certifi in c:\\users\\pablosal\\appdata\\local\\anaconda3\\envs\\azure-ai-agent-service-demo\\lib\\site-packages (from httpx==0.27.2) (2025.1.31)\n",
      "Requirement already satisfied: httpcore==1.* in c:\\users\\pablosal\\appdata\\local\\anaconda3\\envs\\azure-ai-agent-service-demo\\lib\\site-packages (from httpx==0.27.2) (1.0.7)\n",
      "Requirement already satisfied: idna in c:\\users\\pablosal\\appdata\\local\\anaconda3\\envs\\azure-ai-agent-service-demo\\lib\\site-packages (from httpx==0.27.2) (3.10)\n",
      "Requirement already satisfied: sniffio in c:\\users\\pablosal\\appdata\\local\\anaconda3\\envs\\azure-ai-agent-service-demo\\lib\\site-packages (from httpx==0.27.2) (1.3.1)\n",
      "Requirement already satisfied: h11<0.15,>=0.13 in c:\\users\\pablosal\\appdata\\local\\anaconda3\\envs\\azure-ai-agent-service-demo\\lib\\site-packages (from httpcore==1.*->httpx==0.27.2) (0.14.0)\n",
      "Requirement already satisfied: typing_extensions>=4.5 in c:\\users\\pablosal\\appdata\\local\\anaconda3\\envs\\azure-ai-agent-service-demo\\lib\\site-packages (from anyio->httpx==0.27.2) (4.12.2)\n",
      "Note: you may need to restart the kernel to use updated packages.\n",
      "Collecting synapseml==0.11.0\n",
      "  Using cached synapseml-0.11.0-py2.py3-none-any.whl.metadata (642 bytes)\n",
      "Using cached synapseml-0.11.0-py2.py3-none-any.whl (514 kB)\n",
      "Installing collected packages: synapseml\n",
      "  Attempting uninstall: synapseml\n",
      "    Found existing installation: synapseml 1.0.10\n",
      "    Uninstalling synapseml-1.0.10:\n",
      "      Successfully uninstalled synapseml-1.0.10\n",
      "Successfully installed synapseml-0.11.0\n",
      "Note: you may need to restart the kernel to use updated packages.\n"
     ]
    }
   ],
   "source": [
    "%pip install \"openai==1.14.1\"\n",
    "%pip install httpx==0.27.2\n",
    "%pip install synapseml==0.11.0\n",
    "%pip install mlflow"
   ]
  },
  {
   "cell_type": "code",
   "execution_count": null,
   "metadata": {},
   "outputs": [
    {
     "ename": "ModuleNotFoundError",
     "evalue": "No module named 'synapse.ml.mlflow'",
     "output_type": "error",
     "traceback": [
      "\u001b[31m---------------------------------------------------------------------------\u001b[39m",
      "\u001b[31mModuleNotFoundError\u001b[39m                       Traceback (most recent call last)",
      "\u001b[36mCell\u001b[39m\u001b[36m \u001b[39m\u001b[32mIn[3]\u001b[39m\u001b[32m, line 1\u001b[39m\n\u001b[32m----> \u001b[39m\u001b[32m1\u001b[39m \u001b[38;5;28;01mfrom\u001b[39;00m\u001b[38;5;250m \u001b[39m\u001b[34;01msynapse\u001b[39;00m\u001b[34;01m.\u001b[39;00m\u001b[34;01mml\u001b[39;00m\u001b[34;01m.\u001b[39;00m\u001b[34;01mmlflow\u001b[39;00m\u001b[38;5;250m \u001b[39m\u001b[38;5;28;01mimport\u001b[39;00m *\n",
      "\u001b[31mModuleNotFoundError\u001b[39m: No module named 'synapse.ml.mlflow'"
     ]
    }
   ],
   "source": [
    "from synapse.ml. import *"
   ]
  },
  {
   "cell_type": "code",
   "execution_count": 2,
   "metadata": {},
   "outputs": [
    {
     "ename": "ModuleNotFoundError",
     "evalue": "No module named 'synapse.ml.mlflow'",
     "output_type": "error",
     "traceback": [
      "\u001b[31m---------------------------------------------------------------------------\u001b[39m",
      "\u001b[31mModuleNotFoundError\u001b[39m                       Traceback (most recent call last)",
      "\u001b[36mCell\u001b[39m\u001b[36m \u001b[39m\u001b[32mIn[2]\u001b[39m\u001b[32m, line 13\u001b[39m\n\u001b[32m     11\u001b[39m \u001b[38;5;28;01mfrom\u001b[39;00m\u001b[38;5;250m \u001b[39m\u001b[34;01mopenai\u001b[39;00m\u001b[34;01m.\u001b[39;00m\u001b[34;01m_types\u001b[39;00m\u001b[38;5;250m \u001b[39m\u001b[38;5;28;01mimport\u001b[39;00m Omit\n\u001b[32m     12\u001b[39m \u001b[38;5;28;01mfrom\u001b[39;00m\u001b[38;5;250m \u001b[39m\u001b[34;01mopenai\u001b[39;00m\u001b[34;01m.\u001b[39;00m\u001b[34;01m_utils\u001b[39;00m\u001b[38;5;250m \u001b[39m\u001b[38;5;28;01mimport\u001b[39;00m is_given\n\u001b[32m---> \u001b[39m\u001b[32m13\u001b[39m \u001b[38;5;28;01mfrom\u001b[39;00m\u001b[38;5;250m \u001b[39m\u001b[34;01msynapse\u001b[39;00m\u001b[34;01m.\u001b[39;00m\u001b[34;01mml\u001b[39;00m\u001b[34;01m.\u001b[39;00m\u001b[34;01mmlflow\u001b[39;00m\u001b[38;5;250m \u001b[39m\u001b[38;5;28;01mimport\u001b[39;00m get_mlflow_env_config\n\u001b[32m     14\u001b[39m \u001b[38;5;28;01mfrom\u001b[39;00m\u001b[38;5;250m \u001b[39m\u001b[34;01msempy\u001b[39;00m\u001b[34;01m.\u001b[39;00m\u001b[34;01mfabric\u001b[39;00m\u001b[34;01m.\u001b[39;00m\u001b[34;01m_token_provider\u001b[39;00m\u001b[38;5;250m \u001b[39m\u001b[38;5;28;01mimport\u001b[39;00m SynapseTokenProvider\n\u001b[32m     16\u001b[39m base_url = \u001b[33m\"\u001b[39m\u001b[33mhttps://api.fabric.microsoft.com/v1/workspaces/0633b854-4f74-4673-86a1-51ca4a8c1913/aiskills/9aa31dbe-acb4-4b76-8962-a1663759285f/aiassistant/openai\u001b[39m\u001b[33m\"\u001b[39m\n",
      "\u001b[31mModuleNotFoundError\u001b[39m: No module named 'synapse.ml.mlflow'"
     ]
    }
   ],
   "source": [
    "import requests\n",
    "import json\n",
    "import pprint\n",
    "import typing as t\n",
    "import time\n",
    "import uuid\n",
    "\n",
    "from openai import OpenAI\n",
    "from openai._exceptions import APIStatusError\n",
    "from openai._models import FinalRequestOptions\n",
    "from openai._types import Omit\n",
    "from openai._utils import is_given\n",
    "from synapse.ml.mlflow import get_mlflow_env_config\n",
    "from sempy.fabric._token_provider import SynapseTokenProvider\n",
    " \n",
    "base_url = \"https://api.fabric.microsoft.com/v1/workspaces/0633b854-4f74-4673-86a1-51ca4a8c1913/aiskills/9aa31dbe-acb4-4b76-8962-a1663759285f/aiassistant/openai\"\n",
    "question = \"What datasources do you have access to?\"\n",
    "\n",
    "configs = get_mlflow_env_config()\n",
    "\n",
    "# Create OpenAI Client\n",
    "class FabricOpenAI(OpenAI):\n",
    "    def __init__(\n",
    "        self,\n",
    "        api_version: str =\"2024-05-01-preview\",\n",
    "        **kwargs: t.Any,\n",
    "    ) -> None:\n",
    "        self.api_version = api_version\n",
    "        default_query = kwargs.pop(\"default_query\", {})\n",
    "        default_query[\"api-version\"] = self.api_version\n",
    "        super().__init__(\n",
    "            api_key=\"\",\n",
    "            base_url=base_url,\n",
    "            default_query=default_query,\n",
    "            **kwargs,\n",
    "        )\n",
    "    \n",
    "    def _prepare_options(self, options: FinalRequestOptions) -> None:\n",
    "        headers: dict[str, str | Omit] = (\n",
    "            {**options.headers} if is_given(options.headers) else {}\n",
    "        )\n",
    "        options.headers = headers\n",
    "        headers[\"Authorization\"] = f\"Bearer {configs.driver_aad_token}\"\n",
    "        if \"Accept\" not in headers:\n",
    "            headers[\"Accept\"] = \"application/json\"\n",
    "        if \"ActivityId\" not in headers:\n",
    "            correlation_id = str(uuid.uuid4())\n",
    "            headers[\"ActivityId\"] = correlation_id\n",
    "\n",
    "        return super()._prepare_options(options)\n",
    "\n",
    "# Pretty printing helper\n",
    "def pretty_print(messages):\n",
    "    print(\"---Conversation---\")\n",
    "    for m in messages:\n",
    "        print(f\"{m.role}: {m.content[0].text.value}\")\n",
    "    print()\n",
    "\n",
    "fabric_client = FabricOpenAI()\n",
    "# Create assistant\n",
    "assistant = fabric_client.beta.assistants.create(model=\"not used\")\n",
    "# Create thread\n",
    "thread = fabric_client.beta.threads.create()\n",
    "# Create message on thread\n",
    "message = fabric_client.beta.threads.messages.create(thread_id=thread.id, role=\"user\", content=question)\n",
    "# Create run\n",
    "run = fabric_client.beta.threads.runs.create(thread_id=thread.id, assistant_id=assistant.id)\n",
    "\n",
    "# Wait for run to complete\n",
    "while run.status == \"queued\" or run.status == \"in_progress\":\n",
    "    run = fabric_client.beta.threads.runs.retrieve(\n",
    "        thread_id=thread.id,\n",
    "        run_id=run.id,\n",
    "    )\n",
    "    print(run.status)\n",
    "    time.sleep(2)\n",
    "\n",
    "# Print messages\n",
    "response = fabric_client.beta.threads.messages.list(thread_id=thread.id, order=\"asc\")\n",
    "pretty_print(response)\n",
    "\n",
    "# Delete thread\n",
    "fabric_client.beta.threads.delete(thread_id=thread.id)"
   ]
  },
  {
   "cell_type": "code",
   "execution_count": 4,
   "metadata": {},
   "outputs": [
    {
     "name": "stdout",
     "output_type": "stream",
     "text": [
      "Requirement already satisfied: synapseml in c:\\users\\pablosal\\appdata\\local\\anaconda3\\envs\\azure-ai-agent-service-demo\\lib\\site-packages (1.0.10)\n"
     ]
    }
   ],
   "source": [
    "!pip install synapseml\n"
   ]
  },
  {
   "cell_type": "code",
   "execution_count": 1,
   "metadata": {},
   "outputs": [
    {
     "ename": "AttributeError",
     "evalue": "module 'synapse.ml' has no attribute '__version__'",
     "output_type": "error",
     "traceback": [
      "\u001b[31m---------------------------------------------------------------------------\u001b[39m",
      "\u001b[31mAttributeError\u001b[39m                            Traceback (most recent call last)",
      "\u001b[36mCell\u001b[39m\u001b[36m \u001b[39m\u001b[32mIn[1]\u001b[39m\u001b[32m, line 2\u001b[39m\n\u001b[32m      1\u001b[39m \u001b[38;5;28;01mimport\u001b[39;00m\u001b[38;5;250m \u001b[39m\u001b[34;01msynapse\u001b[39;00m\u001b[34;01m.\u001b[39;00m\u001b[34;01mml\u001b[39;00m\n\u001b[32m----> \u001b[39m\u001b[32m2\u001b[39m \u001b[38;5;28mprint\u001b[39m(\u001b[43msynapse\u001b[49m\u001b[43m.\u001b[49m\u001b[43mml\u001b[49m\u001b[43m.\u001b[49m\u001b[43m__version__\u001b[49m)\n",
      "\u001b[31mAttributeError\u001b[39m: module 'synapse.ml' has no attribute '__version__'"
     ]
    }
   ],
   "source": [
    "import synapse.ml\n",
    "print(synapse.ml.__version__)"
   ]
  }
 ],
 "metadata": {
  "kernelspec": {
   "display_name": "azure-ai-agent-service-demo",
   "language": "python",
   "name": "python3"
  },
  "language_info": {
   "codemirror_mode": {
    "name": "ipython",
    "version": 3
   },
   "file_extension": ".py",
   "mimetype": "text/x-python",
   "name": "python",
   "nbconvert_exporter": "python",
   "pygments_lexer": "ipython3",
   "version": "3.11.11"
  }
 },
 "nbformat": 4,
 "nbformat_minor": 2
}
